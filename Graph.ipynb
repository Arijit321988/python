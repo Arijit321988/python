{
 "cells": [
  {
   "cell_type": "code",
   "execution_count": 62,
   "id": "c292bbe2",
   "metadata": {},
   "outputs": [
    {
     "name": "stdout",
     "output_type": "stream",
     "text": [
      "Vertex Kolkata exist already\n",
      "SOURCE        DESTINATION\n",
      "Mumbai       Delhi     \n",
      "Mumbai       Kolkata   \n",
      "Mumbai       Hyderabad \n",
      "Delhi        Mumbai    \n",
      "Delhi        Kolkata   \n",
      "Delhi        Hyderabad \n",
      "Kolkata      Mumbai    \n",
      "Kolkata      Hyderabad \n",
      "Kolkata      Patna     \n",
      "Kolkata      Delhi     \n",
      "Kolkata      Bangalore \n",
      "Hyderabad    Kolkata   \n",
      "Hyderabad    Mumbai    \n",
      "Hyderabad    Delhi     \n",
      "Hyderabad    Patna     \n",
      "Patna        Bangalore \n",
      "Patna        Kolkata   \n",
      "Patna        Hyderabad \n",
      "Bangalore    Patna     \n",
      "Bangalore    Kolkata   \n",
      "\n",
      "\n",
      "SOURCE        DESTINATION\n",
      "Mumbai       Delhi     \n",
      "Mumbai       Hyderabad \n",
      "Delhi        Mumbai    \n",
      "Delhi        Hyderabad \n",
      "Kolkata      Hyderabad \n",
      "Kolkata      Bangalore \n",
      "Hyderabad    Kolkata   \n",
      "Hyderabad    Mumbai    \n",
      "Hyderabad    Delhi     \n",
      "Hyderabad    Patna     \n",
      "Patna        Bangalore \n",
      "Patna        Hyderabad \n",
      "Bangalore    Patna     \n",
      "Bangalore    Kolkata   \n",
      "\n",
      "\n"
     ]
    }
   ],
   "source": [
    "class Graph:\n",
    "    def __init__(self):\n",
    "        self.adjacencyList = {}\n",
    "    \n",
    "    def add_vertex(self,vertex):\n",
    "        if vertex not in self.adjacencyList:\n",
    "            self.adjacencyList[vertex] = []\n",
    "        else:\n",
    "            print('Vertex {0} exist already'.format(vertex))\n",
    "            \n",
    "    def add_edge(self,source,destination):\n",
    "        if source in self.adjacencyList:\n",
    "            self.adjacencyList[source].append(destination)\n",
    "            if destination in self.adjacencyList:\n",
    "                self.adjacencyList[destination].append(source)\n",
    "            else:\n",
    "                self.add_vertex(destination)\n",
    "                self.adjacencyList[destination].append(source)\n",
    "        \n",
    "        else:\n",
    "            self.add_vertex(source)\n",
    "            self.add_vertex(destination)\n",
    "            self.adjacencyList[source].append(destination)\n",
    "            self.adjacencyList[destination].append(source)\n",
    "    \n",
    "    def remove_edge(self,location_one,location_two):\n",
    "        if location_one in self.adjacencyList :\n",
    "            if location_two in self.adjacencyList[location_one]:\n",
    "                self.adjacencyList[location_one].pop(self.adjacencyList[location_one].index(location_two))\n",
    "        \n",
    "        if location_two in self.adjacencyList :\n",
    "            if location_one in self.adjacencyList[location_two]:\n",
    "                self.adjacencyList[location_two].pop(self.adjacencyList[location_two].index(location_one))\n",
    "    \n",
    "    def print_graph(self):\n",
    "        print (\"{:<10}    {:<10}\".format('SOURCE', 'DESTINATION'))\n",
    "        for i, j in g.adjacencyList.items():   \n",
    "              for k in j:\n",
    "                print (\"{:<10}   {:<10}\".format(i, k))\n",
    "                \n",
    "        \n",
    "        print(\"\\n\")\n",
    "        \n",
    "        \n",
    "        \n",
    "g=Graph()\n",
    "\n",
    "g.add_edge(\"Mumbai\",\"Delhi\")\n",
    "g.add_edge(\"Mumbai\",\"Kolkata\")\n",
    "g.add_edge(\"Hyderabad\",\"Kolkata\")\n",
    "g.add_edge(\"Patna\",\"Bangalore\")\n",
    "g.add_edge(\"Patna\",\"Kolkata\")\n",
    "g.add_edge(\"Delhi\",\"Kolkata\")\n",
    "g.add_edge(\"Bangalore\",\"Kolkata\")\n",
    "g.add_edge(\"Mumbai\",\"Hyderabad\")\n",
    "g.add_edge(\"Delhi\",\"Hyderabad\")\n",
    "g.add_edge(\"Patna\",\"Hyderabad\")\n",
    "g.print_graph()\n",
    "g.remove_edge(\"Kolkata\",\"Patna\")\n",
    "g.remove_edge(\"Kolkata\",\"Mumbai\")\n",
    "g.remove_edge(\"Kolkata\",\"Delhi\")\n",
    "g.print_graph()"
   ]
  },
  {
   "cell_type": "code",
   "execution_count": 52,
   "id": "c4814c0a",
   "metadata": {},
   "outputs": [
    {
     "name": "stdout",
     "output_type": "stream",
     "text": [
      "SOURCE        DESTINATION\n",
      "Delhi        Kolkata   \n",
      "Mumbai       Kolkata   \n"
     ]
    },
    {
     "ename": "ValueError",
     "evalue": "too many values to unpack (expected 2)",
     "output_type": "error",
     "traceback": [
      "\u001b[1;31m---------------------------------------------------------------------------\u001b[0m",
      "\u001b[1;31mValueError\u001b[0m                                Traceback (most recent call last)",
      "\u001b[1;32m<ipython-input-52-58ef604a25b0>\u001b[0m in \u001b[0;36m<module>\u001b[1;34m\u001b[0m\n\u001b[0;32m      1\u001b[0m \u001b[0mprint\u001b[0m \u001b[1;33m(\u001b[0m\u001b[1;34m\"{:<10}    {:<10}\"\u001b[0m\u001b[1;33m.\u001b[0m\u001b[0mformat\u001b[0m\u001b[1;33m(\u001b[0m\u001b[1;34m'SOURCE'\u001b[0m\u001b[1;33m,\u001b[0m \u001b[1;34m'DESTINATION'\u001b[0m\u001b[1;33m)\u001b[0m\u001b[1;33m)\u001b[0m\u001b[1;33m\u001b[0m\u001b[1;33m\u001b[0m\u001b[0m\n\u001b[0;32m      2\u001b[0m \u001b[1;32mfor\u001b[0m \u001b[0mkey\u001b[0m\u001b[1;33m,\u001b[0m \u001b[0mvalue\u001b[0m \u001b[1;32min\u001b[0m \u001b[0mg\u001b[0m\u001b[1;33m.\u001b[0m\u001b[0madjacencyList\u001b[0m\u001b[1;33m.\u001b[0m\u001b[0mitems\u001b[0m\u001b[1;33m(\u001b[0m\u001b[1;33m)\u001b[0m\u001b[1;33m:\u001b[0m\u001b[1;33m\u001b[0m\u001b[1;33m\u001b[0m\u001b[0m\n\u001b[1;32m----> 3\u001b[1;33m     \u001b[0msource\u001b[0m\u001b[1;33m,\u001b[0m \u001b[0mdestination\u001b[0m \u001b[1;33m=\u001b[0m \u001b[0mvalue\u001b[0m\u001b[1;33m\u001b[0m\u001b[1;33m\u001b[0m\u001b[0m\n\u001b[0m\u001b[0;32m      4\u001b[0m     \u001b[0mprint\u001b[0m \u001b[1;33m(\u001b[0m\u001b[1;34m\"{:<10}   {:<10}\"\u001b[0m\u001b[1;33m.\u001b[0m\u001b[0mformat\u001b[0m\u001b[1;33m(\u001b[0m\u001b[0msource\u001b[0m\u001b[1;33m,\u001b[0m \u001b[0mdestination\u001b[0m\u001b[1;33m)\u001b[0m\u001b[1;33m)\u001b[0m\u001b[1;33m\u001b[0m\u001b[1;33m\u001b[0m\u001b[0m\n",
      "\u001b[1;31mValueError\u001b[0m: too many values to unpack (expected 2)"
     ]
    }
   ],
   "source": [
    "print (\"{:<10}    {:<10}\".format('SOURCE', 'DESTINATION'))\n",
    "for key, value in g.adjacencyList.items():\n",
    "    source, destination = value\n",
    "    print (\"{:<10}   {:<10}\".format(source, destination))"
   ]
  },
  {
   "cell_type": "code",
   "execution_count": 53,
   "id": "2e624261",
   "metadata": {},
   "outputs": [
    {
     "name": "stdout",
     "output_type": "stream",
     "text": [
      "Mumbai Delhi Kolkata Hyderabad Patna Bangalore  \n",
      "Delhi Mumbai Mumbai Kolkata Bangalore Patna  \n"
     ]
    }
   ],
   "source": [
    "for each_row in zip(*([i] + (j) for i, j in g.adjacencyList.items())):\n",
    "      \n",
    "      print(*each_row, \" \")"
   ]
  },
  {
   "cell_type": "code",
   "execution_count": 58,
   "id": "452961d6",
   "metadata": {},
   "outputs": [
    {
     "name": "stdout",
     "output_type": "stream",
     "text": [
      "SOURCE        DESTINATION\n",
      "Mumbai       Delhi     \n",
      "Mumbai       Kolkata   \n",
      "Delhi        Mumbai    \n",
      "Delhi        Kolkata   \n",
      "Kolkata      Mumbai    \n",
      "Kolkata      Hyderabad \n",
      "Kolkata      Delhi     \n",
      "Kolkata      Bangalore \n",
      "Hyderabad    Kolkata   \n",
      "Patna        Bangalore \n",
      "Bangalore    Patna     \n",
      "Bangalore    Kolkata   \n"
     ]
    }
   ],
   "source": []
  },
  {
   "cell_type": "code",
   "execution_count": 44,
   "id": "7f0b0c8d",
   "metadata": {},
   "outputs": [
    {
     "data": {
      "text/plain": [
       "'Hyderabad'"
      ]
     },
     "execution_count": 44,
     "metadata": {},
     "output_type": "execute_result"
    }
   ],
   "source": [
    "g.adjacencyList['Kolkata'].pop(1)"
   ]
  },
  {
   "cell_type": "code",
   "execution_count": 45,
   "id": "bb5df874",
   "metadata": {},
   "outputs": [
    {
     "ename": "ValueError",
     "evalue": "'Bangalore' is not in list",
     "output_type": "error",
     "traceback": [
      "\u001b[1;31m---------------------------------------------------------------------------\u001b[0m",
      "\u001b[1;31mValueError\u001b[0m                                Traceback (most recent call last)",
      "\u001b[1;32m<ipython-input-45-f8282d39dc82>\u001b[0m in \u001b[0;36m<module>\u001b[1;34m\u001b[0m\n\u001b[1;32m----> 1\u001b[1;33m \u001b[0mg\u001b[0m\u001b[1;33m.\u001b[0m\u001b[0madjacencyList\u001b[0m\u001b[1;33m[\u001b[0m\u001b[1;34m'Kolkata'\u001b[0m\u001b[1;33m]\u001b[0m\u001b[1;33m.\u001b[0m\u001b[0mindex\u001b[0m\u001b[1;33m(\u001b[0m\u001b[1;34m'Bangalore'\u001b[0m\u001b[1;33m)\u001b[0m\u001b[1;33m\u001b[0m\u001b[1;33m\u001b[0m\u001b[0m\n\u001b[0m",
      "\u001b[1;31mValueError\u001b[0m: 'Bangalore' is not in list"
     ]
    }
   ],
   "source": [
    "g.adjacencyList['Kolkata'].index('Bangalore')"
   ]
  },
  {
   "cell_type": "code",
   "execution_count": null,
   "id": "310f9f59",
   "metadata": {},
   "outputs": [],
   "source": []
  }
 ],
 "metadata": {
  "kernelspec": {
   "display_name": "Python 3",
   "language": "python",
   "name": "python3"
  },
  "language_info": {
   "codemirror_mode": {
    "name": "ipython",
    "version": 3
   },
   "file_extension": ".py",
   "mimetype": "text/x-python",
   "name": "python",
   "nbconvert_exporter": "python",
   "pygments_lexer": "ipython3",
   "version": "3.7.4"
  }
 },
 "nbformat": 4,
 "nbformat_minor": 5
}
